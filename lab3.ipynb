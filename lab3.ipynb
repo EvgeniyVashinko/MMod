{
 "cells": [
  {
   "cell_type": "markdown",
   "metadata": {},
   "source": [
    "Лабораторная работа №3"
   ]
  },
  {
   "cell_type": "markdown",
   "metadata": {},
   "source": [
    "Вариант 6"
   ]
  },
  {
   "cell_type": "markdown",
   "metadata": {},
   "source": [
    "Задание 1"
   ]
  },
  {
   "cell_type": "markdown",
   "metadata": {},
   "source": [
    "$$ f(x,y)={3\\over8\\pi}(2- \\sqrt{x^2 + y^2}), \\forall x, y: x^2 + y^2 \\le 4 $$"
   ]
  },
  {
   "cell_type": "code",
   "execution_count": 107,
   "metadata": {},
   "outputs": [],
   "source": [
    "import numpy as np\n",
    "import matplotlib.pyplot as plt\n",
    "import scipy.integrate as spint\n",
    "import random\n",
    "import scipy.stats as spst\n",
    "import sympy as sp"
   ]
  },
  {
   "cell_type": "code",
   "execution_count": 108,
   "metadata": {},
   "outputs": [],
   "source": [
    "fxy = lambda x,y: (3 / (8 * np.pi)) * (2 - np.sqrt(x**2 + y**2))\n",
    "fx = lambda x: spint.quad(fxy, -np.sqrt(4 - x ** 2), np.sqrt(4 - x ** 2), args=(x,))[0]\n",
    "fy = lambda y: spint.quad(fxy, -np.sqrt(4 - y ** 2), np.sqrt(4 - y ** 2), args=(y,))[0]\n",
    "\n",
    "a = -2\n",
    "b = 2\n",
    "f_max = fxy(0, 0)\n",
    "N = 100000"
   ]
  },
  {
   "cell_type": "code",
   "execution_count": 109,
   "metadata": {},
   "outputs": [],
   "source": [
    "def neuman_method(a, b, f_max):\n",
    "    while True:\n",
    "        x, y = a + random.random() * (b - a), a + random.random() * (b - a) \n",
    "        z = random.random() * f_max\n",
    "        if fxy(x, y) > z and x ** 2 + y ** 2 <= 4:\n",
    "            yield x, y\n",
    "            \n",
    "            \n",
    "def get_values(n):\n",
    "    x, y =[], []\n",
    "    gen = neuman_method(a, b, f_max)\n",
    "    for i in range(n):\n",
    "        val = next(gen)\n",
    "        x.append(val[0])\n",
    "        y.append(val[1])\n",
    "    return x, y"
   ]
  },
  {
   "cell_type": "markdown",
   "metadata": {},
   "source": [
    "Проверить составляющие двумерной НСВ на независимость;"
   ]
  },
  {
   "cell_type": "code",
   "execution_count": 110,
   "metadata": {},
   "outputs": [
    {
     "data": {
      "text/plain": [
       "0.002777847287230024"
      ]
     },
     "execution_count": 110,
     "metadata": {},
     "output_type": "execute_result"
    }
   ],
   "source": [
    "xVal, yVal = get_values(N)\n",
    "spst.pearsonr(xVal, yVal)[0]"
   ]
  },
  {
   "cell_type": "markdown",
   "metadata": {},
   "source": [
    "Так как корреляция близка к нулю, можно сделать вывод, что составляющие двумерной НСВ независимы."
   ]
  },
  {
   "cell_type": "markdown",
   "metadata": {},
   "source": [
    "Найти условные плотности распределения;"
   ]
  },
  {
   "cell_type": "code",
   "execution_count": 111,
   "metadata": {},
   "outputs": [
    {
     "name": "stdout",
     "output_type": "stream",
     "text": [
      "f_xy:\n"
     ]
    },
    {
     "data": {
      "text/latex": [
       "$\\displaystyle \\frac{3 \\left(2 - \\sqrt{x^{2} + y^{2}}\\right)}{8 \\pi \\left(\\frac{3 \\left(- \\frac{x^{2} \\operatorname{asinh}{\\left(\\frac{2}{x} \\right)}}{2} - x \\sqrt{1 + \\frac{4}{x^{2}}} + 4\\right)}{8 \\pi} - \\frac{3 \\left(\\frac{x^{2} \\operatorname{asinh}{\\left(\\frac{2}{x} \\right)}}{2} + x \\sqrt{1 + \\frac{4}{x^{2}}} - 4\\right)}{8 \\pi}\\right)}$"
      ],
      "text/plain": [
       "3*(2 - sqrt(x**2 + y**2))/(8*pi*(3*(-x**2*asinh(2/x)/2 - x*sqrt(1 + 4/x**2) + 4)/(8*pi) - 3*(x**2*asinh(2/x)/2 + x*sqrt(1 + 4/x**2) - 4)/(8*pi)))"
      ]
     },
     "metadata": {},
     "output_type": "display_data"
    },
    {
     "name": "stdout",
     "output_type": "stream",
     "text": [
      "f_yx:\n"
     ]
    },
    {
     "data": {
      "text/latex": [
       "$\\displaystyle \\frac{3 \\left(2 - \\sqrt{x^{2} + y^{2}}\\right)}{8 \\pi \\left(\\frac{3 \\left(- \\frac{y^{2} \\operatorname{asinh}{\\left(\\frac{2}{y} \\right)}}{2} - y \\sqrt{1 + \\frac{4}{y^{2}}} + 4\\right)}{8 \\pi} - \\frac{3 \\left(\\frac{y^{2} \\operatorname{asinh}{\\left(\\frac{2}{y} \\right)}}{2} + y \\sqrt{1 + \\frac{4}{y^{2}}} - 4\\right)}{8 \\pi}\\right)}$"
      ],
      "text/plain": [
       "3*(2 - sqrt(x**2 + y**2))/(8*pi*(3*(-y**2*asinh(2/y)/2 - y*sqrt(1 + 4/y**2) + 4)/(8*pi) - 3*(y**2*asinh(2/y)/2 + y*sqrt(1 + 4/y**2) - 4)/(8*pi)))"
      ]
     },
     "metadata": {},
     "output_type": "display_data"
    }
   ],
   "source": [
    "x,y = sp.symbols('x y')\n",
    "f = (3 / (8 * sp.pi)) * (2 - sp.sqrt(x**2 + y**2))\n",
    "\n",
    "f_xy = f / sp.integrate(f,(y,a,b))  \n",
    "f_yx = f / sp.integrate(f,(x,a,b))\n",
    "\n",
    "print('f_xy:')\n",
    "display(f_xy)\n",
    "print('f_yx:')\n",
    "display(f_yx)"
   ]
  },
  {
   "cell_type": "markdown",
   "metadata": {},
   "source": [
    "Построить гистограммы составляющих двумерной НСВ и графики их\n",
    "плотностей распределения в одной системе координат;"
   ]
  },
  {
   "cell_type": "code",
   "execution_count": 112,
   "metadata": {},
   "outputs": [],
   "source": [
    "x, y = xVal, yVal"
   ]
  },
  {
   "cell_type": "code",
   "execution_count": 113,
   "metadata": {},
   "outputs": [
    {
     "data": {
      "image/png": "[encoded data removed]",
      "text/plain": [
       "<Figure size 432x288 with 1 Axes>"
      ]
     },
     "metadata": {
      "needs_background": "light"
     },
     "output_type": "display_data"
    }
   ],
   "source": [
    "x_values = np.linspace(a, b, 1000)\n",
    "y_values = [fx(i) for i in x_values]\n",
    "plt.hist(x, density=True)\n",
    "plt.plot(x_values, y_values)\n",
    "plt.show()"
   ]
  },
  {
   "cell_type": "code",
   "execution_count": 114,
   "metadata": {},
   "outputs": [
    {
     "data": {
      "image/png": "[encoded data removed]",
      "text/plain": [
       "<Figure size 432x288 with 1 Axes>"
      ]
     },
     "metadata": {
      "needs_background": "light"
     },
     "output_type": "display_data"
    }
   ],
   "source": [
    "x_values = np.linspace(a, b, 1000)\n",
    "y_values = [fy(i) for i in x_values]\n",
    "plt.hist(y, density=True)\n",
    "plt.plot(x_values, y_values)\n",
    "plt.show()"
   ]
  },
  {
   "cell_type": "markdown",
   "metadata": {},
   "source": [
    "Вычислить теоретические, точечные и интервальные значения характеристик\n",
    "двумерной НСВ (математическое ожидание, дисперсия, корреляция);"
   ]
  },
  {
   "cell_type": "markdown",
   "metadata": {},
   "source": [
    "1. Точенчные:"
   ]
  },
  {
   "cell_type": "code",
   "execution_count": 115,
   "metadata": {},
   "outputs": [
    {
     "name": "stdout",
     "output_type": "stream",
     "text": [
      "M(x)= -0.000999753683148592\n",
      "D(x)= 0.6002023267737059\n",
      "M(y)= 0.003103138374022833\n",
      "D(y)= 0.6037650410624766\n",
      "r(xy)= 0.002777847287230024\n"
     ]
    }
   ],
   "source": [
    "print('M(x)=',np.mean(x))\n",
    "print('D(x)=',np.var(x))\n",
    "print('M(y)=',np.mean(y))\n",
    "print('D(y)=',np.var(y))\n",
    "print('r(xy)=',spst.pearsonr(x, y)[0])"
   ]
  },
  {
   "cell_type": "markdown",
   "metadata": {},
   "source": [
    "2. Теоретические"
   ]
  },
  {
   "cell_type": "code",
   "execution_count": 116,
   "metadata": {},
   "outputs": [
    {
     "name": "stdout",
     "output_type": "stream",
     "text": [
      "M(x)= 0.0\n",
      "D(x)= 0.5999999999999691\n",
      "M(y)= 0.0\n",
      "D(y)= 0.5999999999999691\n",
      "r(xy)= 0.0\n"
     ]
    }
   ],
   "source": [
    "def xfx(x):\n",
    "    return x * fx(x)\n",
    "\n",
    "Mx = spint.quad(xfx, a, b)[0]\n",
    "\n",
    "def yfy(y):\n",
    "    return y * fy(y)\n",
    "\n",
    "My = spint.quad(yfy, a, b)[0]\n",
    "\n",
    "def y2fy(y):\n",
    "    return y * y * fy(y)\n",
    "\n",
    "Dy = spint.quad(y2fy, a, b)[0] - My ** 2\n",
    "\n",
    "def x2fx(x):\n",
    "    return x * x * fx(x)\n",
    "\n",
    "Dx = spint.quad(x2fx, a, b)[0] - Mx ** 2\n",
    "\n",
    "def xyfxy(x,y):\n",
    "    return x * y * fxy(x, y)\n",
    "\n",
    "Mxy = spint.dblquad(xyfxy, a, b, lambda x: -np.sqrt(4 - x ** 2), lambda x: np.sqrt(4 - x ** 2))[0]\n",
    "rxy = (Mxy - Mx * My) / (np.sqrt(Dx) * np.sqrt(Dy))\n",
    "\n",
    "print('M(x)=',Mx)\n",
    "print('D(x)=',Dx)\n",
    "print('M(y)=',My)\n",
    "print('D(y)=',Dy)\n",
    "print('r(xy)=',rxy)"
   ]
  },
  {
   "cell_type": "markdown",
   "metadata": {},
   "source": [
    "3. Интервальные"
   ]
  },
  {
   "cell_type": "code",
   "execution_count": 117,
   "metadata": {},
   "outputs": [
    {
     "name": "stdout",
     "output_type": "stream",
     "text": [
      "Интервал для Mx: (-0.0073104368710100835, 0.005310929504712899)\n",
      "Интервал для Dx (0.5931509073483929, 0.6069752583105561)\n",
      "Интервал для My: (-0.003226246753685874, 0.00943252350173154)\n",
      "Интервал для Dy (0.5931509073483929, 0.6069752583105561)\n",
      "Интервал для Rxy: (-0.0024237027245824264, 0.007979246986673212)\n"
     ]
    }
   ],
   "source": [
    "def get_interval(Dx, alpha, array):\n",
    "    left =  len(array) * Dx / spst.chi2.ppf(1 - alpha/2, df=len(array)-1)\n",
    "    right = len(array) * Dx / spst.chi2.ppf(alpha/2, df=len(array)-1)\n",
    "    return left, right\n",
    "\n",
    "def z_to_r(z):\n",
    "    '''Преобразование z-оценки обратно в r-значение'''\n",
    "    return (np.exp(z*2) - 1) / (np.exp(z*2) + 1)\n",
    "\n",
    "def interval(x,y, alpha):\n",
    "    r = spst.pearsonr(x,y)[0]\n",
    "    zr = 0.5 * np.log((1 + r) / (1 - r)) \n",
    "    crit = spst.norm.ppf(1-alpha/2)\n",
    "    sez = 1 / np.sqrt(len(x) - 3)\n",
    "    return (z_to_r(zr - (crit * sez))), (z_to_r(zr + (crit * sez)))\n",
    "\n",
    "print(\"Интервал для Mx:\", spst.t.interval(0.99, len(x)-1, loc=np.mean(x), scale=spst.sem(x)))\n",
    "print(\"Интервал для Dx\", get_interval(Dx, 0.01, x))\n",
    "print(\"Интервал для My:\", spst.t.interval(0.99, len(y)-1, loc=np.mean(y), scale=spst.sem(y)))\n",
    "print(\"Интервал для Dy\", get_interval(Dy, 0.01, y))\n",
    "print(\"Интервал для Rxy:\",interval(x, y, 0.1))"
   ]
  },
  {
   "cell_type": "markdown",
   "metadata": {},
   "source": [
    "Задание 2"
   ]
  },
  {
   "cell_type": "code",
   "execution_count": 118,
   "metadata": {},
   "outputs": [],
   "source": [
    "x = [20, 30, 40, 50, 70]\n",
    "y = [3, 4, 5, 9, 10]\n",
    "\n",
    "n = len(x)\n",
    "m = len(y)\n",
    "\n",
    "\n",
    "P = [[0.01, 0.04, 0.02, 0.05, 0.03],\n",
    "     [0.01, 0.3, 0.03, 0.03, 0.02],\n",
    "     [0.02, 0.06, 0.06, 0.04, 0.01],\n",
    "     [0.02, 0.03, 0.07, 0.02, 0.01],\n",
    "     [0.01, 0.01, 0.05, 0.03, 0.02]]"
   ]
  },
  {
   "cell_type": "code",
   "execution_count": 119,
   "metadata": {},
   "outputs": [],
   "source": [
    "def dsv_gen(x, y, P):\n",
    "    p_x = [sum(row) for row in P]\n",
    "    p_x_values = np.cumsum(p_x)\n",
    "\n",
    "    p_yx = np.copy(P)\n",
    "    for i in range(len(p_yx)):\n",
    "        for j in range(len(p_yx[0])):\n",
    "            p_yx[i][j] /= p_x[i]\n",
    "\n",
    "    p_yx_values = np.copy(p_yx)\n",
    "    for i in range(len(p_yx_values)):\n",
    "        p_yx_values[i] = np.cumsum(p_yx_values[i])\n",
    "\n",
    "    ind_x = 0\n",
    "    ind_y = 0\n",
    "    \n",
    "    while True:\n",
    "        e = random.random()\n",
    "        for i in range(len(p_yx_values)):\n",
    "            if e <= p_x_values[i]:\n",
    "                ind_x = i\n",
    "                break\n",
    "\n",
    "        e = random.random()\n",
    "        for i in range(len(p_yx_values[0])):\n",
    "            if e <= p_yx_values[ind_x][i]:\n",
    "                ind_y = i\n",
    "                break\n",
    "\n",
    "        yield ind_x, ind_y\n",
    "\n",
    "\n",
    "def get_values(x_val, y_val, n):\n",
    "    x, y =[], []\n",
    "    gen = dsv_gen(x_val, y_val, P)\n",
    "    for i in range(n):\n",
    "        val = next(gen)\n",
    "        x.append(x_val[val[0]])\n",
    "        y.append(y_val[val[1]])\n",
    "    return x, y"
   ]
  },
  {
   "cell_type": "code",
   "execution_count": 120,
   "metadata": {},
   "outputs": [],
   "source": [
    "N = 10000\n",
    "vals = get_values(x, y, N)\n",
    "x_values = vals[0]\n",
    "y_values = vals[1] "
   ]
  },
  {
   "cell_type": "markdown",
   "metadata": {},
   "source": [
    "Проверить составляющие двумерной ДСВ на независимость"
   ]
  },
  {
   "cell_type": "code",
   "execution_count": 121,
   "metadata": {},
   "outputs": [
    {
     "name": "stdout",
     "output_type": "stream",
     "text": [
      "X,Y зависимы\n",
      "P[0][0] != p_x[0]*p_y[0]\n",
      "0.01 != 0.0105\n"
     ]
    }
   ],
   "source": [
    "def wrapper(P, n, m):\n",
    "    p_x = [sum(row) for row in P]\n",
    "    p_y = [sum([val[i] for val in P]) for i in range(m)]    \n",
    "    for i in range(n):\n",
    "        for j in range(m):\n",
    "            if P[i][j] != p_x[i]*p_y[j]:\n",
    "                print('X,Y зависимы')\n",
    "                print(f'P[{i}][{j}] != p_x[{i}]*p_y[{j}]')\n",
    "                print(f'{P[i][j]} != {p_x[i]*p_y[j]}')\n",
    "                return\n",
    "    print('X,Y независимы')\n",
    "wrapper(P, n,m)"
   ]
  },
  {
   "cell_type": "markdown",
   "metadata": {},
   "source": [
    "Найти условные плотности распределения;"
   ]
  },
  {
   "cell_type": "code",
   "execution_count": 122,
   "metadata": {},
   "outputs": [
    {
     "name": "stdout",
     "output_type": "stream",
     "text": [
      "[[0.06666667 0.26666667 0.13333333 0.33333333 0.2       ]\n",
      " [0.02564103 0.76923077 0.07692308 0.07692308 0.05128205]\n",
      " [0.10526316 0.31578947 0.31578947 0.21052632 0.05263158]\n",
      " [0.13333333 0.2        0.46666667 0.13333333 0.06666667]\n",
      " [0.08333333 0.08333333 0.41666667 0.25       0.16666667]]\n",
      "[[0.14285714 0.09090909 0.08695652 0.29411765 0.33333333]\n",
      " [0.14285714 0.68181818 0.13043478 0.17647059 0.22222222]\n",
      " [0.28571429 0.13636364 0.26086957 0.23529412 0.11111111]\n",
      " [0.28571429 0.06818182 0.30434783 0.11764706 0.11111111]\n",
      " [0.14285714 0.02272727 0.2173913  0.17647059 0.22222222]]\n"
     ]
    }
   ],
   "source": [
    "p_x = [sum(row) for row in P]\n",
    "p_y = [sum([val[i] for val in P]) for i in range(m)]    \n",
    "\n",
    "p_yx = np.copy(P)\n",
    "for i in range(n):\n",
    "    for j in range(m):\n",
    "        p_yx[i][j] /= p_x[i]\n",
    "\n",
    "print(p_yx)\n",
    "\n",
    "\n",
    "p_xy = np.copy(P)\n",
    "for i in range(n):\n",
    "    for j in range(m):\n",
    "        p_xy[i][j] /= p_y[j]\n",
    "    \n",
    "print(p_xy)"
   ]
  },
  {
   "cell_type": "markdown",
   "metadata": {},
   "source": [
    "Построить гистограммы составляющих двумерной ДСВ;"
   ]
  },
  {
   "cell_type": "code",
   "execution_count": 123,
   "metadata": {},
   "outputs": [
    {
     "data": {
      "image/png": "[encoded data removed]",
      "text/plain": [
       "<Figure size 432x288 with 1 Axes>"
      ]
     },
     "metadata": {
      "needs_background": "light"
     },
     "output_type": "display_data"
    }
   ],
   "source": [
    "plt.hist(x_values)\n",
    "plt.show()"
   ]
  },
  {
   "cell_type": "code",
   "execution_count": 124,
   "metadata": {},
   "outputs": [
    {
     "data": {
      "image/png": "[encoded data removed]",
      "text/plain": [
       "<Figure size 432x288 with 1 Axes>"
      ]
     },
     "metadata": {
      "needs_background": "light"
     },
     "output_type": "display_data"
    }
   ],
   "source": [
    "plt.hist(y_values)\n",
    "plt.show()"
   ]
  },
  {
   "cell_type": "markdown",
   "metadata": {},
   "source": [
    "Вычислить теоретические, точечные и интервальные значения характеристик\n",
    "двумерной ДСВ (математическое ожидание, дисперсия, корреляция);"
   ]
  },
  {
   "cell_type": "code",
   "execution_count": 125,
   "metadata": {},
   "outputs": [],
   "source": [
    "def M(x, p_x):\n",
    "    sum = 0\n",
    "    for i in range(len(x)):\n",
    "        sum += x[i] * p_x[i]\n",
    "    return sum\n",
    "\n",
    "def D(x, p_x):\n",
    "    sum = 0\n",
    "    for i in range(len(x)):\n",
    "        sum += (x[i] ** 2) * p_x[i]\n",
    "    m = M(x, p_x)\n",
    "    return sum - m ** 2\n",
    "\n",
    "def R(x, y, P):\n",
    "    Mxy = 0\n",
    "    for i, x_v in enumerate(x):\n",
    "        for j, y_v in enumerate(y):\n",
    "            Mxy += x_v * y_v * P[i][j]\n",
    "    Mx = M(x, p_x)\n",
    "    My = M(y, p_y)\n",
    "    Dx = D(x, p_x)\n",
    "    Dy = D(y, p_y)        \n",
    "    return (Mxy - Mx * My) / np.sqrt(Dx * Dy)"
   ]
  },
  {
   "cell_type": "code",
   "execution_count": 126,
   "metadata": {},
   "outputs": [],
   "source": [
    "p_x = [sum(row) for row in P]\n",
    "p_y = [sum([val[i] for val in P]) for i in range(m)] "
   ]
  },
  {
   "cell_type": "markdown",
   "metadata": {},
   "source": [
    "1. Теоретические"
   ]
  },
  {
   "cell_type": "code",
   "execution_count": 127,
   "metadata": {},
   "outputs": [
    {
     "name": "stdout",
     "output_type": "stream",
     "text": [
      "M(x)= 38.2\n",
      "D(x)= 218.75999999999976\n",
      "M(y)= 5.55\n",
      "D(y)= 5.387499999999999\n",
      "r(xy)= 0.0725306798362474\n"
     ]
    }
   ],
   "source": [
    "Mx = M(x, p_x)\n",
    "My = M(y, p_y)\n",
    "Dx = D(x, p_x)\n",
    "Dy = D(y, p_y)\n",
    "Rxy = R(x, y, P)\n",
    "\n",
    "print('M(x)=',Mx)\n",
    "print('D(x)=',Dx)\n",
    "print('M(y)=',My)\n",
    "print('D(y)=',Dy)\n",
    "print('r(xy)=',Rxy)"
   ]
  },
  {
   "cell_type": "code",
   "execution_count": 128,
   "metadata": {},
   "outputs": [],
   "source": [
    "p_x_exp = [x_values.count(x[i]) / N for i in range(n)]\n",
    "p_y_exp = [y_values.count(y[i]) / N for i in range(m)]"
   ]
  },
  {
   "cell_type": "markdown",
   "metadata": {},
   "source": [
    "2. Точечные"
   ]
  },
  {
   "cell_type": "code",
   "execution_count": 129,
   "metadata": {},
   "outputs": [
    {
     "name": "stdout",
     "output_type": "stream",
     "text": [
      "M(x)= 38.436\n",
      "D(x)= 218.7939040000001\n",
      "M(y)= 5.5816\n",
      "D(y)= 5.52014144\n",
      "r(xy)= 0.09914594818652134\n"
     ]
    }
   ],
   "source": [
    "Mx = M(x, p_x_exp)\n",
    "My = M(y, p_y_exp)\n",
    "Dx = D(x, p_x_exp)\n",
    "Dy = D(y, p_y_exp)\n",
    "Rxy = spst.pearsonr(x_values, y_values)[0]\n",
    "\n",
    "print('M(x)=',Mx)\n",
    "print('D(x)=',Dx)\n",
    "print('M(y)=',My)\n",
    "print('D(y)=',Dy)\n",
    "print('r(xy)=',Rxy)"
   ]
  },
  {
   "cell_type": "markdown",
   "metadata": {},
   "source": [
    "3. Интервальные"
   ]
  },
  {
   "cell_type": "code",
   "execution_count": 130,
   "metadata": {},
   "outputs": [
    {
     "name": "stdout",
     "output_type": "stream",
     "text": [
      "Интервал для Mx: (38.054899679246745, 38.817100320753255)\n",
      "Интервал для My: (5.521066357397661, 5.642133642602339)\n",
      "Интервал для Dx (211.04812466326112, 226.9999947486689)\n",
      "Интервал для Dy (5.324716445426894, 5.7271800309935)\n",
      "Интервал для Rxy: (0.0828315181905016, 0.1154072503142862)\n"
     ]
    }
   ],
   "source": [
    "print(\"Интервал для Mx:\", spst.t.interval(0.99, len(x_values)-1, loc=np.mean(x_values), scale=spst.sem(x_values)))\n",
    "print(\"Интервал для My:\", spst.t.interval(0.99, len(y_values)-1, loc=np.mean(y_values), scale=spst.sem(y_values)))\n",
    "print(\"Интервал для Dx\", get_interval(Dx, 0.01, x_values))\n",
    "print(\"Интервал для Dy\", get_interval(Dy, 0.01, y_values))\n",
    "print(\"Интервал для Rxy:\",interval(x_values, y_values, 0.1))"
   ]
  },
  {
   "cell_type": "code",
   "execution_count": null,
   "metadata": {},
   "outputs": [],
   "source": []
  }
 ],
 "metadata": {
  "kernelspec": {
   "display_name": "Python 3",
   "language": "python",
   "name": "python3"
  },
  "language_info": {
   "codemirror_mode": {
    "name": "ipython",
    "version": 3
   },
   "file_extension": ".py",
   "mimetype": "text/x-python",
   "name": "python",
   "nbconvert_exporter": "python",
   "pygments_lexer": "ipython3",
   "version": "3.8.3"
  }
 },
 "nbformat": 4,
 "nbformat_minor": 4
}
