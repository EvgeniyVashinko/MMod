{
 "cells": [
  {
   "cell_type": "markdown",
   "metadata": {},
   "source": [
    "## Лабораторная работа №5"
   ]
  },
  {
   "cell_type": "markdown",
   "metadata": {},
   "source": [
    "## Вариант 25"
   ]
  },
  {
   "cell_type": "markdown",
   "metadata": {},
   "source": [
    "Имеется одноканальная СМО с очередью, ограниченной числом мест R = 2. На вход СМО поступает простейший по ток заявок с интенсивностью X. Время обслуживания распределено по обобщенному закону Эрланга с параметрами k, X2. Найти вероятности состояний СМО и характеристики эффективности СМО."
   ]
  },
  {
   "cell_type": "markdown",
   "metadata": {},
   "source": [
    "Так как время обслуживания распределено по обобщенному закону Эрланга с параметрами $ k, X_{2} $ Воспользуемся методом фаз для решения задачи. Представим, что обслуживание состоит из 2-х фаз, 1 и 2. Каждая фаза продолжается \n",
    "$ t_{1}, t_{2} $ соответственно, а полное время обслуживания \n",
    "$ t_{o} = t_{1} + t_{2} $, $ t_{1} $ и $ t_{2}$ имеют показательное распределение с параметрами $ k $ и $ X_{2} $ соответственно, \n",
    "$ t_{o} $ - распределение Эрланга с параметрами \n",
    "$ k $ и $ X_{2} $"
   ]
  },
  {
   "cell_type": "markdown",
   "metadata": {},
   "source": [
    "Возможные состояния системы:  \n",
    "$ \\Large s_{0} $ - ни один канал не занят;  \n",
    "$ \\Large s_{11} $ - В СМО 1 заявка, обслуживается в 1-й фазе, очереди нет;  \n",
    "$ \\Large s_{12} $ - 1 заявка, 2-я фаза, очереди нет;  \n",
    "$ \\Large s_{21} $ - 2 заявки, 1 обслуживается, вторая в очереди, 1-я фаза;  \n",
    "$ \\Large s_{22} $ - 2 заявки, 1 обслуживается, вторая в очереди, 2-я фаза;  \n",
    "$ \\Large s_{31} $ - 3 заявка, 1 обслуживается, две в очереди, 1-я фаза;  \n",
    "$ \\Large s_{32} $ - 3 заявка, 1 обслуживается, две в очереди, 2-я фаза;  "
   ]
  },
  {
   "cell_type": "markdown",
   "metadata": {},
   "source": [
    "#### Граф состояний СМО:"
   ]
  },
  {
   "attachments": {
    "g.png": {
     "image/png": "[encoded data removed]"
    }
   },
   "cell_type": "markdown",
   "metadata": {},
   "source": [
    "![g.png](attachment:g.png)"
   ]
  },
  {
   "cell_type": "markdown",
   "metadata": {},
   "source": [
    "Составим уравнение для финальльных вероятностей. Будем пользоваться правилом, что дя каждого состояния систеты суммарный выходной поток равен суммарному входному потоку. "
   ]
  },
  {
   "cell_type": "markdown",
   "metadata": {},
   "source": [
    "$ \\Large X p_{0} = X_{2} p_{12} $   \n",
    "$ \\Large (X + k) p_{11} = X p_{0} + X_{2} p_{22} $   \n",
    "$ \\Large (X + X_{2}) p_{12} = k p_{11} $  \n",
    "$ \\Large (X + k) p_{21} = X p_{11} + X_{2} p_{32} $  \n",
    "$ \\Large (X + X_{2}) p_{22} = X p_{12} + k p_{21} $   \n",
    "$ \\Large k p_{31} = X p_{21} $  \n",
    "$ \\Large X_{2} p_{32} = X p_{22} + k p_{31} $  "
   ]
  },
  {
   "cell_type": "markdown",
   "metadata": {},
   "source": [
    "Добавим условие нормировки:  \n",
    "$ \\Large p_{0} + p_{11} + p_{12} + p_{21} + p_{22} + p_{31} + p_{32} = 1 $ "
   ]
  },
  {
   "cell_type": "markdown",
   "metadata": {},
   "source": [
    "Решив систему, получим следующее:  "
   ]
  },
  {
   "cell_type": "markdown",
   "metadata": {},
   "source": [
    "$ \\Large p_{0} = \\bigg(1 + \\frac{(X + X_{2}) X}{k X_{2}} + \\frac{X}{X_{2}} +  \\frac{X^3(X + k + X_{2}) + X^2 X_{2} (X + X_{2})}{k^2 X_{2}^2} + \\frac{X^2(X + k + X_{2})}{k X_{2}^2} + \\frac{X^4(X + k + X_{2}) + X^3 X_{2} (X + X_{2})}{k^3 X_{2}^2} + \\frac{X^4(X + k + X_{2}) + X^3 X_{2} (X + X_{2})}{k^2 X_{2}^3} + \\frac{X^3(X + k + X_{2})}{k X_{2}^3} \\bigg)^{-1} $  \n",
    "$ \\Large p_{11} = \\frac{(X + X_{2}) X}{k X_{2}} p_{0} $  \n",
    "$ \\Large p_{12} = \\frac{X}{X_{2}} p_{0} $  \n",
    "$ \\Large p_{21} = \\frac{X^3(X + k + X_{2}) + X^2 X_{2} (X + X_{2})}{k^2 X_{2}^2} p_{0} $  \n",
    "$ \\Large p_{22} = \\frac{X^2(X + k + X_{2})}{k X_{2}^2} p_{0} $  \n",
    "$ \\Large p_{31} = \\frac{X^4(X + k + X_{2}) + X^3 X_{2} (X + X_{2})}{k^3 X_{2}^2} p_{0} $  \n",
    "$ \\Large p_{32} = \\bigg(\\frac{X^4(X + k + X_{2}) + X^3 X_{2} (X + X_{2})}{k^2 X_{2}^3} + \\frac{X^3(X + k + X_{2})}{k X_{2}^3} \\bigg) p_{0} $  "
   ]
  },
  {
   "cell_type": "markdown",
   "metadata": {},
   "source": [
    "Теперь найдем финальные вероятности состояний системы:"
   ]
  },
  {
   "cell_type": "markdown",
   "metadata": {},
   "source": [
    "$ \\Large p_{1} = p_{11} + p_{12} $  \n",
    "$ \\Large p_{2} = p_{21} + p_{22} $  \n",
    "$ \\Large p_{3} = p_{31} + p_{32} $  "
   ]
  },
  {
   "cell_type": "markdown",
   "metadata": {},
   "source": [
    "Далее вычислим основные характеристики СМО"
   ]
  },
  {
   "cell_type": "code",
   "execution_count": null,
   "metadata": {},
   "outputs": [],
   "source": [
    "!pip install simpy\n",
    "!pip install prettytable"
   ]
  },
  {
   "cell_type": "code",
   "execution_count": 2,
   "metadata": {},
   "outputs": [],
   "source": [
    "import numpy as np\n",
    "import simpy as sp\n",
    "import statistics as st\n",
    "import matplotlib.pyplot as plt\n",
    "import prettytable as pt"
   ]
  },
  {
   "cell_type": "code",
   "execution_count": 3,
   "metadata": {},
   "outputs": [],
   "source": [
    "X = 2\n",
    "k = 6\n",
    "X2 = 12"
   ]
  },
  {
   "cell_type": "code",
   "execution_count": 4,
   "metadata": {},
   "outputs": [],
   "source": [
    "class Task:\n",
    "    def __init__(self, l, m1, m2):\n",
    "        self.l = l\n",
    "        self.m1 = m1\n",
    "        self.m2 = m2\n",
    "\n",
    "    def p0(self):\n",
    "        p0 = 1 \\\n",
    "             + (((self.l + self.m2) * self.l) / (self.m1 * self.m2)) \\\n",
    "             + (self.l / self.m2) \\\n",
    "             + (((self.l ** 3) * (self.l + self.m1 + self.m2) + (self.l ** 2) * self.m2 * (self.l + self.m2)) / ((self.m1 ** 2) * (self.m2 ** 2))) \\\n",
    "             + (((self.l ** 2) * (self.l + self.m1 + self.m2)) / (self.m1 * (self.m2 ** 2))) \\\n",
    "             + (((self.l ** 4) * (self.l + self.m1 + self.m2) + (self.l ** 3) * self.m2 * (self.l + self.m2)) / ((self.m1 ** 2) * (self.m2 ** 3))) \\\n",
    "             + (((self.l ** 3) * (self.l + self.m1 + self.m2)) / (self.m1 * (self.m2 ** 3))) \\\n",
    "             + (((self.l ** 4) * (self.l + self.m1 + self.m2) + ((self.l ** 3) * self.m2 * (self.l + self.m2))) / ((self.m1 ** 3) * (self.m2 ** 2)))\n",
    "        return p0 ** -1\n",
    "\n",
    "    def p11(self):\n",
    "        return (((self.l + self.m2) * self.l) / (self.m1 * self.m2)) * self.p0()\n",
    "\n",
    "    def p12(self):\n",
    "        return (self.l / self.m2) * self.p0()\n",
    "\n",
    "    def p21(self):\n",
    "        return (((self.l ** 3) * (self.l + self.m1 + self.m2) + (self.l ** 2) * self.m2 * (self.l + self.m2)) / ((self.m1 ** 2) * (self.m2 ** 2))) * self.p0()\n",
    "\n",
    "    def p22(self):\n",
    "        return (((self.l ** 2) * (self.l + self.m1 + self.m2)) / (self.m1 * (self.m2 ** 2))) * self.p0()\n",
    "\n",
    "    def p31(self):\n",
    "        return (((self.l ** 4) * (self.l + self.m1 + self.m2) + (self.l ** 3) * self.m2 * (self.l + self.m2)) / ((self.m1 ** 3) * (self.m2 ** 2))) * self.p0()\n",
    "\n",
    "    def p32(self):\n",
    "        return ((((self.l ** 3) * (self.l + self.m1 + self.m2)) / (self.m1 * (self.m2 ** 3))) \\\n",
    "               + (((self.l ** 4) * (self.l + self.m1 + self.m2) + ((self.l ** 3) * self.m2 * (self.l + self.m2))) / ((self.m1 ** 2) * (self.m2 ** 3)))) * self.p0()\n",
    "\n",
    "    def p1(self):\n",
    "        return self.p11() + self.p12()\n",
    "\n",
    "    def p2(self):\n",
    "        return self.p21() + self.p22()\n",
    "\n",
    "    def p3(self):\n",
    "        return self.p31() + self.p32()\n",
    "    \n",
    "    def get_final_probabilities(self):\n",
    "        return [self.p0(), self.p1(), self.p2(), self.p3()]\n",
    "    \n",
    "    def get_queue_probability(self):\n",
    "        return (self.p1() + self.p2())\n",
    "\n",
    "    def get_reject_probability(self):\n",
    "        return self.p3()\n",
    "\n",
    "    def get_relative_capacity(self):\n",
    "        return 1 - self.p3()\n",
    "\n",
    "    def get_absolute_capacity(self):\n",
    "        return self.l * self.get_relative_capacity()\n",
    "\n",
    "    def get_average_sys_size(self):\n",
    "        return 1 * self.p1() + 2 * self.p2() + 3 * self.p3()\n",
    "\n",
    "    def get_average_queue_size(self):\n",
    "        return 1 * self.p2() + 2 * self.p3()\n",
    "\n",
    "    def get_average_sys_time(self):\n",
    "        return self.get_average_sys_size() / self.l\n",
    "\n",
    "    def get_average_queue_time(self):\n",
    "        return self.get_average_queue_size() / self.l"
   ]
  },
  {
   "cell_type": "code",
   "execution_count": 5,
   "metadata": {},
   "outputs": [],
   "source": [
    "def plot_histogram(theoretical_probabilities):\n",
    "    theoretical_probabilities = np.array(theoretical_probabilities)\n",
    "    \n",
    "    plt.title('Теоретические финальные вероятности')\n",
    "    plt.bar(range(len(theoretical_probabilities)), theoretical_probabilities, width = 0.2)\n",
    "    plt.show()"
   ]
  },
  {
   "cell_type": "code",
   "execution_count": 6,
   "metadata": {},
   "outputs": [
    {
     "name": "stdout",
     "output_type": "stream",
     "text": [
      "+-------------------------------------+\n",
      "| Теоретические финальные вероятности |\n",
      "+-------------------------------------+\n",
      "|          0.5251215559157212         |\n",
      "|          0.2917341977309562         |\n",
      "|         0.13290113452188004         |\n",
      "|         0.050243111831442464        |\n",
      "+-------------------------------------+\n"
     ]
    },
    {
     "data": {
      "image/png": "[encoded data removed]",
      "text/plain": [
       "<Figure size 432x288 with 1 Axes>"
      ]
     },
     "metadata": {
      "needs_background": "light"
     },
     "output_type": "display_data"
    },
    {
     "name": "stdout",
     "output_type": "stream",
     "text": [
      "+---------------------------------------------+------------------------+\n",
      "|                Характеристика               | Теоретическое значение |\n",
      "+---------------------------------------------+------------------------+\n",
      "|      Абсолютная пропускная способность      |   1.899513776337115    |\n",
      "|     Относитальная пропускная способность    |   0.9497568881685575   |\n",
      "|              Вероятность отказа             |  0.050243111831442464  |\n",
      "|       Вероятность образования очереди       |  0.42463533225283623   |\n",
      "|        Среднее число элементов в СМО        |   0.7082658022690436   |\n",
      "|      Среднее число элементов в очереди      |  0.23338735818476497   |\n",
      "|   Среднее время пребывания элемента в СМО   |   0.3541329011345218   |\n",
      "| Среднее время пребывания элемента в очереди |  0.11669367909238249   |\n",
      "+---------------------------------------------+------------------------+\n"
     ]
    }
   ],
   "source": [
    "t = Task(X, k, X2)\n",
    "\n",
    "final_probabilities_info = pt.PrettyTable()\n",
    "final_probabilities_info.add_column(\"Теоретические финальные вероятности\", t.get_final_probabilities())\n",
    "print(final_probabilities_info)\n",
    "\n",
    "plot_histogram(t.get_final_probabilities())\n",
    "\n",
    "info = pt.PrettyTable()\n",
    "info.field_names = [\"Характеристика\", \"Теоретическое значение\"]\n",
    "info.add_row([\"Абсолютная пропускная способность\", t.get_absolute_capacity()])\n",
    "info.add_row([\"Относитальная пропускная способность\", t.get_relative_capacity()])\n",
    "info.add_row([\"Вероятность отказа\", t.get_reject_probability()])\n",
    "info.add_row([\"Вероятность образования очереди\", t.get_queue_probability()])\n",
    "info.add_row([\"Среднее число элементов в СМО\", t.get_average_sys_size()])\n",
    "info.add_row([\"Среднее число элементов в очереди\", t.get_average_queue_size()])\n",
    "info.add_row([\"Среднее время пребывания элемента в СМО\", t.get_average_sys_time()])\n",
    "info.add_row([\"Среднее время пребывания элемента в очереди\", t.get_average_queue_time()])\n",
    "print(info)"
   ]
  },
  {
   "cell_type": "markdown",
   "metadata": {},
   "source": [
    "### Создадим симуляционную модель СМО и сравним теоретические и эмпирические характеристики"
   ]
  },
  {
   "cell_type": "code",
   "execution_count": 7,
   "metadata": {},
   "outputs": [],
   "source": [
    "class QueueSystem:\n",
    "    def __init__(self, env, n, m, l, mu1, mu2):\n",
    "        self.n = n\n",
    "        self.m = m\n",
    "        self.l = l\n",
    "        self.mu1 = mu1\n",
    "        self.mu2 = mu2\n",
    "\n",
    "        self.counts = []\n",
    "        self.times = []\n",
    "        self.queue_counts = []\n",
    "        self.queue_times = []\n",
    "\n",
    "        self.serve_items = []\n",
    "        self.reject_items = []\n",
    "\n",
    "        self.env = env\n",
    "        self.resources = sp.Resource(env, n)\n",
    "\n",
    "    def serve(self):\n",
    "        yield self.env.timeout(np.random.exponential(1 / ((1 / self.mu1 + 1 / self.mu2) ** -1)))\n",
    "\n",
    "    def wait(self):\n",
    "        yield self.env.timeout(100000)\n",
    "\n",
    "    def get_workload(self):\n",
    "        return self.resources.count\n",
    "\n",
    "    def get_queue_len(self):\n",
    "        return len(self.resources.queue)\n",
    "\n",
    "    def start(self, action):\n",
    "        while True:\n",
    "            yield self.env.timeout(np.random.exponential(1 / self.l))\n",
    "            self.env.process(action(self))\n",
    "            \n",
    "\n",
    "    def get_final_probabilities(self):\n",
    "        items = np.array(self.reject_items + self.serve_items)\n",
    "        return [(len(items[items == i]) / len(items)) for i in range(1, self.n + self.m + 2)]\n",
    "\n",
    "\n",
    "    def get_queue_probability(self):\n",
    "        items = np.array(self.reject_items + self.serve_items)\n",
    "        return np.sum([(len(items[items == i]) / len(items)) for i in range(1, self.n + self.m + 2) if\n",
    "                       i > self.n and i < self.n + self.m + 1])\n",
    "\n",
    "\n",
    "    def get_reject_probability(self):\n",
    "        items = np.array(self.reject_items + self.serve_items)\n",
    "        return (len(items[items == self.n + self.m + 1]) / len(items))\n",
    "\n",
    "\n",
    "    def get_relative_capacity(self):\n",
    "        return 1 - self.get_reject_probability()\n",
    "\n",
    "\n",
    "    def get_absolute_capacity(self):\n",
    "        return self.get_relative_capacity() * self.l\n",
    "\n",
    "\n",
    "    def get_average_queue_size(self):\n",
    "        return st.mean(self.queue_counts)\n",
    "\n",
    "\n",
    "    def get_average_sys_size(self):\n",
    "        return st.mean(self.counts)\n",
    "\n",
    "\n",
    "    def get_average_queue_time(self):\n",
    "        return st.mean(self.queue_times)\n",
    "\n",
    "\n",
    "    def get_average_sys_time(self):\n",
    "        return st.mean(self.times)"
   ]
  },
  {
   "cell_type": "code",
   "execution_count": 8,
   "metadata": {},
   "outputs": [],
   "source": [
    "def serve(queue_system: QueueSystem):\n",
    "    queue_len = queue_system.get_queue_len()\n",
    "    qn_count = queue_system.get_workload()\n",
    "    with queue_system.resources.request() as request:\n",
    "        queue_current_len = queue_system.get_queue_len()\n",
    "        qn_current_count = queue_system.get_workload()\n",
    "        queue_system.queue_counts.append(queue_len)\n",
    "        queue_system.counts.append(queue_len + qn_count)\n",
    "        if queue_current_len <= queue_system.m:\n",
    "            start = queue_system.env.now\n",
    "            response = yield request | queue_system.env.process(queue_system.wait())\n",
    "            queue_system.queue_times.append(queue_system.env.now - start)\n",
    "            if request in response:\n",
    "                yield queue_system.env.process(queue_system.serve())\n",
    "                queue_system.serve_items.append(queue_current_len + qn_current_count)\n",
    "            else:\n",
    "                queue_system.reject_items.append(queue_current_len + qn_current_count)\n",
    "            queue_system.times.append(queue_system.env.now - start)\n",
    "        else:\n",
    "            queue_system.reject_items.append(queue_system.n + queue_system.m + 1)\n",
    "            queue_system.times.append(0)\n",
    "            queue_system.queue_times.append(0)"
   ]
  },
  {
   "cell_type": "code",
   "execution_count": 9,
   "metadata": {},
   "outputs": [],
   "source": [
    "def plot_histograms(theoretical_probabilities, experimental_probabilities):\n",
    "    theoretical_probabilities = np.array(theoretical_probabilities)\n",
    "    experimental_probabilities = np.array(experimental_probabilities)\n",
    "    \n",
    "    plt.title('Теоретические финальные вероятности')\n",
    "    plt.bar(range(len(theoretical_probabilities)), theoretical_probabilities, width = 0.2)\n",
    "    plt.show()\n",
    "    \n",
    "    plt.title('Эмпирические финальные вероятности')\n",
    "    plt.bar(range(len(experimental_probabilities)), experimental_probabilities, width = 0.2)\n",
    "    plt.show()\n",
    "\n",
    "    plt.title('Разница')\n",
    "    plt.bar(range(len(theoretical_probabilities)), theoretical_probabilities - experimental_probabilities, width = 0.3)\n",
    "    plt.axhline(y = 0, xmin = 0, xmax = len(theoretical_probabilities), color='red')\n",
    "    plt.show()"
   ]
  },
  {
   "cell_type": "code",
   "execution_count": 10,
   "metadata": {},
   "outputs": [],
   "source": [
    "def test_case(n, m, l, mu1, mu2, time, interval_count, _round):\n",
    "    env = sp.Environment()\n",
    "    queue_system = QueueSystem(env, n, m, l, mu1, mu2)\n",
    "    env.process(queue_system.start(serve))\n",
    "    env.run(until=time)\n",
    "\n",
    "    final_probabilities_info = pt.PrettyTable()\n",
    "    final_probabilities_info.add_column(\"Теоретические финальные вероятности\", t.get_final_probabilities())\n",
    "    final_probabilities_info.add_column(\"Эмпирические финальные вероятности\", queue_system.get_final_probabilities())\n",
    "    print(final_probabilities_info)\n",
    "\n",
    "    plot_histograms(t.get_final_probabilities(), queue_system.get_final_probabilities())\n",
    "\n",
    "    info = pt.PrettyTable()\n",
    "    info.field_names = [\"Характеристика\", \"Теоретическое значение\", \"Эмпирическое значение\"]\n",
    "    info.add_row([\"Абсолютная пропускная способность\", t.get_absolute_capacity(), queue_system.get_absolute_capacity()])\n",
    "    info.add_row([\"Относитальная пропускная способность\", t.get_relative_capacity(), queue_system.get_relative_capacity()])\n",
    "    info.add_row([\"Вероятность отказа\", t.get_reject_probability(), queue_system.get_reject_probability()])\n",
    "    info.add_row([\"Вероятность образования очереди\", t.get_queue_probability(), queue_system.get_queue_probability()])\n",
    "    info.add_row([\"Среднее число элементов в СМО\", t.get_average_sys_size(), queue_system.get_average_sys_size()])\n",
    "    info.add_row([\"Среднее число элементов в очереди\", t.get_average_queue_size(), queue_system.get_average_queue_size()])\n",
    "    info.add_row([\"Среднее время пребывания элемента в СМО\", t.get_average_sys_time(), queue_system.get_average_sys_time()])\n",
    "    info.add_row([\"Среднее время пребывания элемента в очереди\", t.get_average_queue_time(), queue_system.get_average_queue_time()])\n",
    "    print(info)\n",
    "    \n"
   ]
  },
  {
   "cell_type": "markdown",
   "metadata": {},
   "source": [
    "Вычислим основные характеристики СМО и сравним теоретические значения с эмпирическими"
   ]
  },
  {
   "cell_type": "code",
   "execution_count": 13,
   "metadata": {},
   "outputs": [
    {
     "name": "stdout",
     "output_type": "stream",
     "text": [
      "+-------------------------------------+------------------------------------+\n",
      "| Теоретические финальные вероятности | Эмпирические финальные вероятности |\n",
      "+-------------------------------------+------------------------------------+\n",
      "|          0.5251215559157212         |         0.522928870292887          |\n",
      "|          0.2917341977309562         |         0.2667782426778243         |\n",
      "|         0.13290113452188004         |         0.1389958158995816         |\n",
      "|         0.050243111831442464        |        0.07129707112970711         |\n",
      "+-------------------------------------+------------------------------------+\n"
     ]
    },
    {
     "data": {
      "image/png": "[encoded data removed]",
      "text/plain": [
       "<Figure size 432x288 with 1 Axes>"
      ]
     },
     "metadata": {
      "needs_background": "light"
     },
     "output_type": "display_data"
    },
    {
     "data": {
      "image/png": "[encoded data removed]",
      "text/plain": [
       "<Figure size 432x288 with 1 Axes>"
      ]
     },
     "metadata": {
      "needs_background": "light"
     },
     "output_type": "display_data"
    },
    {
     "data": {
      "image/png": "[encoded data removed]",
      "text/plain": [
       "<Figure size 432x288 with 1 Axes>"
      ]
     },
     "metadata": {
      "needs_background": "light"
     },
     "output_type": "display_data"
    },
    {
     "name": "stdout",
     "output_type": "stream",
     "text": [
      "+---------------------------------------------+------------------------+-----------------------+\n",
      "|                Характеристика               | Теоретическое значение | Эмпирическое значение |\n",
      "+---------------------------------------------+------------------------+-----------------------+\n",
      "|      Абсолютная пропускная способность      |   1.899513776337115    |   1.8574058577405859  |\n",
      "|     Относитальная пропускная способность    |   0.9497568881685575   |   0.9287029288702929  |\n",
      "|              Вероятность отказа             |  0.050243111831442464  |  0.07129707112970711  |\n",
      "|       Вероятность образования очереди       |  0.42463533225283623   |   0.4057740585774059  |\n",
      "|        Среднее число элементов в СМО        |   0.7082658022690436   |   0.7586610878661088  |\n",
      "|      Среднее число элементов в очереди      |  0.23338735818476497   |   0.2815899581589958  |\n",
      "|   Среднее время пребывания элемента в СМО   |   0.3541329011345218   |  0.37808864702488115  |\n",
      "| Среднее время пребывания элемента в очереди |  0.11669367909238249   |  0.14093500456483912  |\n",
      "+---------------------------------------------+------------------------+-----------------------+\n"
     ]
    }
   ],
   "source": [
    "test_case(1, 2, X, k, X2, 6000, 100, 10)"
   ]
  },
  {
   "cell_type": "code",
   "execution_count": null,
   "metadata": {},
   "outputs": [],
   "source": []
  }
 ],
 "metadata": {
  "kernelspec": {
   "display_name": "Python 3",
   "language": "python",
   "name": "python3"
  },
  "language_info": {
   "codemirror_mode": {
    "name": "ipython",
    "version": 3
   },
   "file_extension": ".py",
   "mimetype": "text/x-python",
   "name": "python",
   "nbconvert_exporter": "python",
   "pygments_lexer": "ipython3",
   "version": "3.8.3"
  }
 },
 "nbformat": 4,
 "nbformat_minor": 4
}
