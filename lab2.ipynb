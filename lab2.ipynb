{
 "cells": [
  {
   "cell_type": "markdown",
   "metadata": {},
   "source": [
    "Лабораторная работа №2"
   ]
  },
  {
   "cell_type": "markdown",
   "metadata": {},
   "source": [
    "Вашинко Евгений"
   ]
  },
  {
   "cell_type": "code",
   "execution_count": 8,
   "metadata": {},
   "outputs": [],
   "source": [
    "import numpy as np"
   ]
  },
  {
   "cell_type": "code",
   "execution_count": 9,
   "metadata": {},
   "outputs": [],
   "source": [
    "def next_val(m, k, prev):\n",
    "    return (k * prev) % m\n",
    "\n",
    "\n",
    "def multiplicative_congruent_method(m, k, a0):\n",
    "    next = a0\n",
    "    while True:\n",
    "        yield next / m\n",
    "        next = next_val(m, k, next)\n",
    "\n",
    "\n",
    "def get_gen():\n",
    "    m = 131072\n",
    "    k = 131101\n",
    "    a0 = 29\n",
    "    return multiplicative_congruent_method(m, k, a0)"
   ]
  },
  {
   "cell_type": "markdown",
   "metadata": {},
   "source": [
    "Задание 1. Имитация простого случайного события."
   ]
  },
  {
   "cell_type": "code",
   "execution_count": 10,
   "metadata": {},
   "outputs": [
    {
     "name": "stdout",
     "output_type": "stream",
     "text": [
      "99993\n",
      "500072\n",
      "900011\n"
     ]
    }
   ],
   "source": [
    "class Event:\n",
    "    def __init__(self):\n",
    "        self.gen = get_gen()\n",
    "\n",
    "    def check_event(self, p):\n",
    "        val = next(self.gen)\n",
    "        return val < p\n",
    "\n",
    "\n",
    "def check(p):\n",
    "    e = Event()\n",
    "    n = 10 ** 6\n",
    "    count = 0\n",
    "    for i in range(n):\n",
    "        if e.check_event(p):\n",
    "            count = count + 1\n",
    "    return count\n",
    "\n",
    "\n",
    "print(check(0.1))\n",
    "print(check(0.5))\n",
    "print(check(0.9))\n"
   ]
  },
  {
   "cell_type": "markdown",
   "metadata": {},
   "source": [
    "Задание 2. Имитация сложного события"
   ]
  },
  {
   "cell_type": "code",
   "execution_count": 11,
   "metadata": {},
   "outputs": [
    {
     "name": "stdout",
     "output_type": "stream",
     "text": [
      "[100040 299998 600087]\n",
      "[599965 400013]\n",
      "[899955 100023]\n"
     ]
    }
   ],
   "source": [
    "class Event:\n",
    "    def __init__(self):\n",
    "        self.gen = get_gen()\n",
    "\n",
    "    def check_event(self, p):\n",
    "        val = next(self.gen)\n",
    "        return val < p\n",
    "\n",
    "    def check_events(self, p_list):\n",
    "        result = list()\n",
    "        for p in p_list:\n",
    "            result.append(self.check_event(p))\n",
    "        return np.array(result, dtype=int)\n",
    "\n",
    "\n",
    "def check(p_list):\n",
    "    e = Event()\n",
    "    n = 10 ** 6\n",
    "    count = e.check_events(p_list)\n",
    "    for i in range(n - 1):\n",
    "        count += e.check_events(p_list)\n",
    "    return count\n",
    "\n",
    "\n",
    "print(check([0.1, 0.3, 0.6]))\n",
    "print(check([0.6, 0.4]))\n",
    "print(check([0.9, 0.1]))\n"
   ]
  },
  {
   "cell_type": "markdown",
   "metadata": {},
   "source": [
    "Задание 3. Имитация сложного события, состоящего из зависимых\n",
    "событий."
   ]
  },
  {
   "cell_type": "code",
   "execution_count": 15,
   "metadata": {},
   "outputs": [
    {
     "name": "stdout",
     "output_type": "stream",
     "text": [
      "[ 30940  69022 630946 269092]\n",
      "[248280 351685 248302 151733]\n",
      "[165508 634472 165540  34480]\n"
     ]
    }
   ],
   "source": [
    "class Event:\n",
    "    def __init__(self):\n",
    "        self.gen = get_gen()\n",
    "\n",
    "    def check_event(self, p):\n",
    "        val = next(self.gen)\n",
    "        return val < p\n",
    "\n",
    "    def check_events(self, p1, p2):\n",
    "        result = np.array([0, 0, 0, 0])\n",
    "        if self.check_event(p1):\n",
    "            if self.check_event(p2):\n",
    "                result[0] = 1\n",
    "            else:\n",
    "                result[1] = 1\n",
    "        else:\n",
    "            if not self.check_event(p2):\n",
    "                result[2] = 1\n",
    "            else:\n",
    "                result[3] = 1\n",
    "        return result\n",
    "\n",
    "\n",
    "def check(p1, p2):\n",
    "    e = Event()\n",
    "    n = 10 ** 6\n",
    "    count = e.check_events(p1, p2)\n",
    "    for i in range(n - 1):\n",
    "        count += e.check_events(p1, p2)\n",
    "    return count\n",
    "\n",
    "\n",
    "print(check(0.1, 0.3))\n",
    "print(check(0.6, 0.4))\n",
    "print(check(0.8, 0.2))\n"
   ]
  },
  {
   "cell_type": "markdown",
   "metadata": {},
   "source": [
    "Задание 4. Имитация событий, образующих полную группу"
   ]
  },
  {
   "cell_type": "code",
   "execution_count": 13,
   "metadata": {},
   "outputs": [
    {
     "name": "stdout",
     "output_type": "stream",
     "text": [
      "[ 99993 300050 599957]\n",
      "[600070 399930]\n",
      "[900011  99989]\n"
     ]
    }
   ],
   "source": [
    "class Event:\n",
    "    def __init__(self):\n",
    "        self.gen = get_gen()\n",
    "\n",
    "    def check_event(self, p_list):\n",
    "        val = next(self.gen)\n",
    "        p_list = np.cumsum(p_list)\n",
    "        # print(p_list)\n",
    "        result = np.array([0] * len(p_list))\n",
    "        for i, p in enumerate(p_list):\n",
    "            if val <= p:\n",
    "                result[i] = 1\n",
    "                return result\n",
    "\n",
    "\n",
    "def check(p_list):\n",
    "    e = Event()\n",
    "    n = 10 ** 6\n",
    "    count = e.check_event(p_list)\n",
    "    for i in range(n - 1):\n",
    "        count += e.check_event(p_list)\n",
    "    return count\n",
    "\n",
    "\n",
    "print(check([0.1, 0.3, 0.6]))\n",
    "print(check([0.6, 0.4]))\n",
    "print(check([0.9, 0.1]))\n"
   ]
  },
  {
   "cell_type": "markdown",
   "metadata": {},
   "source": [
    "Дополнительное задание. Вариант 3. «Колесо фортуны» для стримера."
   ]
  },
  {
   "cell_type": "code",
   "execution_count": 16,
   "metadata": {},
   "outputs": [
    {
     "name": "stdout",
     "output_type": "stream",
     "text": [
      "Civilization VI, 1000\n",
      "Formula 1, 400\n",
      "PUBG, 500\n",
      "Witcher 3, 600\n",
      "Civilization VI, 275\n",
      "Witcher 3, 300\n",
      "stop\n",
      "{'Civilization VI': 1275, 'Formula 1': 400, 'PUBG': 500, 'Witcher 3': 900}\n",
      "{'Civilization VI': 0.4146341463414634, 'Formula 1': 0.13008130081300814, 'PUBG': 0.16260162601626016, 'Witcher 3': 0.2926829268292683}\n",
      "{'Civilization VI': 4166, 'Formula 1': 1306, 'Witcher 3': 2956, 'PUBG': 1572}\n"
     ]
    }
   ],
   "source": [
    "class Event:\n",
    "    def __init__(self):\n",
    "        self.gen = mcm.get_gen()\n",
    "\n",
    "    def check_event(self, games):\n",
    "        val = next(self.gen)\n",
    "        keys = [key for key in games]\n",
    "        values = [games[key] for key in keys]\n",
    "        values = np.cumsum(values)\n",
    "        for i, p in enumerate(values):\n",
    "            if val <= p:\n",
    "                return keys[i]\n",
    "\n",
    "games = dict()\n",
    "\n",
    "while True:\n",
    "    s = input()\n",
    "    if s == 'stop':\n",
    "        break\n",
    "    game, price = s.split(',')\n",
    "    if game not in games:\n",
    "        games[game] = int(price)\n",
    "    else:\n",
    "        games[game] += int(price)\n",
    "print(games)\n",
    "\n",
    "total = sum(games.values())\n",
    "for key in games:\n",
    "    games[key] = games[key] / total\n",
    "\n",
    "e = Event()\n",
    "game_stat = dict()\n",
    "for i in range(10000):\n",
    "    game = e.check_event(games)\n",
    "    if game not in game_stat:\n",
    "        game_stat[game] = 1\n",
    "    else:\n",
    "        game_stat[game] += 1\n",
    "\n",
    "print(games)\n",
    "print(game_stat)"
   ]
  },
  {
   "cell_type": "code",
   "execution_count": null,
   "metadata": {},
   "outputs": [],
   "source": []
  }
 ],
 "metadata": {
  "kernelspec": {
   "display_name": "Python 3",
   "language": "python",
   "name": "python3"
  },
  "language_info": {
   "codemirror_mode": {
    "name": "ipython",
    "version": 3
   },
   "file_extension": ".py",
   "mimetype": "text/x-python",
   "name": "python",
   "nbconvert_exporter": "python",
   "pygments_lexer": "ipython3",
   "version": "3.8.3"
  }
 },
 "nbformat": 4,
 "nbformat_minor": 4
}
