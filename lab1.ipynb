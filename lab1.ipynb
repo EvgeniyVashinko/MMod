{
 "cells": [
  {
   "cell_type": "markdown",
   "metadata": {},
   "source": [
    "Лабораторная работа №1"
   ]
  },
  {
   "cell_type": "markdown",
   "metadata": {},
   "source": [
    "Вашинко Евгений"
   ]
  },
  {
   "cell_type": "markdown",
   "metadata": {},
   "source": [
    "Метод середины квадрата"
   ]
  },
  {
   "cell_type": "code",
   "execution_count": 20,
   "metadata": {},
   "outputs": [],
   "source": [
    "import numpy as np\n",
    "import matplotlib.pyplot as plt\n",
    "import scipy.stats"
   ]
  },
  {
   "cell_type": "code",
   "execution_count": 21,
   "metadata": {},
   "outputs": [],
   "source": [
    "def next_val(prev, length):\n",
    "    square = prev * prev\n",
    "    next = str(square).rjust(length * 2, '0')[(length // 2): (length + length // 2)]\n",
    "    return int(next)\n",
    "\n",
    "\n",
    "def middle_square_method(num):\n",
    "    length = len(str(num))\n",
    "    while True:\n",
    "        yield num / 10 ** length\n",
    "        num = next_val(num, length)\n",
    "\n",
    "\n",
    "def get_msm_values(num, n):\n",
    "    gen = middle_square_method(num)\n",
    "    return [next(gen) for i in range(n)]\n"
   ]
  },
  {
   "cell_type": "code",
   "execution_count": 22,
   "metadata": {},
   "outputs": [],
   "source": [
    "def get_hist(values, k):\n",
    "    x, y = list(), list()\n",
    "    for i in range(k):\n",
    "        y.append(len(list(filter(lambda x: i / k <= x < (i + 1) / k, values))) / len(values))\n",
    "        x.append(f'{(i +1 ) / k}')\n",
    "    return x, y"
   ]
  },
  {
   "cell_type": "markdown",
   "metadata": {},
   "source": [
    "Тестирование равномерности"
   ]
  },
  {
   "cell_type": "code",
   "execution_count": 23,
   "metadata": {},
   "outputs": [
    {
     "data": {
      "image/png": "[encoded data removed]",
      "text/plain": [
       "<Figure size 432x288 with 1 Axes>"
      ]
     },
     "metadata": {
      "needs_background": "light"
     },
     "output_type": "display_data"
    }
   ],
   "source": [
    "values = np.array(get_msm_values(3443565432, 1000))\n",
    "x, y = get_hist(values, 10)\n",
    "plt.bar(x, y)\n",
    "plt.show()"
   ]
  },
  {
   "cell_type": "markdown",
   "metadata": {},
   "source": [
    "Тестирование независимости"
   ]
  },
  {
   "cell_type": "code",
   "execution_count": 117,
   "metadata": {},
   "outputs": [
    {
     "data": {
      "image/png": "[encoded data removed]",
      "text/plain": [
       "<Figure size 432x288 with 1 Axes>"
      ]
     },
     "metadata": {
      "needs_background": "light"
     },
     "output_type": "display_data"
    }
   ],
   "source": [
    "num = 3443565432\n",
    "length = 100\n",
    "x, y = list(), list()\n",
    "s = 10\n",
    "for i in range(3):\n",
    "    values = np.array(get_msm_values(num, length))\n",
    "    v1 = values[s:]\n",
    "    v2 = values[:(-s)]\n",
    "    x.append(length)\n",
    "    y.append(scipy.stats.pearsonr(v1, v2)[0])\n",
    "    length = length * 10\n",
    "plt.plot(x, y, 'o')\n",
    "plt.show()"
   ]
  },
  {
   "cell_type": "markdown",
   "metadata": {},
   "source": [
    "Мультипликативный конгруэнтный метод"
   ]
  },
  {
   "cell_type": "code",
   "execution_count": 24,
   "metadata": {},
   "outputs": [],
   "source": [
    "def next_val(m, k, prev):\n",
    "    return (k * prev) % m\n",
    "\n",
    "\n",
    "def multiplicative_congruent_method(m, k, a0):\n",
    "    next = a0\n",
    "    while True:\n",
    "        yield next / m\n",
    "        next = next_val(m, k, next)\n",
    "\n",
    "\n",
    "def get_mcm_values(m, k, a0, n):\n",
    "    gen = multiplicative_congruent_method(m, k, a0)\n",
    "    return [next(gen) for i in range(n)]"
   ]
  },
  {
   "cell_type": "markdown",
   "metadata": {},
   "source": [
    "Тестирование равномерности"
   ]
  },
  {
   "cell_type": "code",
   "execution_count": 25,
   "metadata": {},
   "outputs": [],
   "source": [
    "m = 131072\n",
    "k = 131101\n",
    "a0 = 29"
   ]
  },
  {
   "cell_type": "code",
   "execution_count": 26,
   "metadata": {},
   "outputs": [
    {
     "data": {
      "image/png": "[encoded data removed]",
      "text/plain": [
       "<Figure size 432x288 with 1 Axes>"
      ]
     },
     "metadata": {
      "needs_background": "light"
     },
     "output_type": "display_data"
    }
   ],
   "source": [
    "values = np.array(get_mcm_values(m, k, a0, 100000))\n",
    "x, y = get_hist(values, 10)\n",
    "plt.bar(x, y)\n",
    "plt.show()"
   ]
  },
  {
   "cell_type": "markdown",
   "metadata": {},
   "source": [
    "Тестирование независимости"
   ]
  },
  {
   "cell_type": "code",
   "execution_count": 121,
   "metadata": {},
   "outputs": [
    {
     "data": {
      "image/png": "[encoded data removed]",
      "text/plain": [
       "<Figure size 432x288 with 1 Axes>"
      ]
     },
     "metadata": {
      "needs_background": "light"
     },
     "output_type": "display_data"
    }
   ],
   "source": [
    "length = 100\n",
    "x, y = list(), list()\n",
    "s = 10\n",
    "for i in range(3):\n",
    "    values = np.array(get_mcm_values(m, k, a0, length))\n",
    "    v1 = values[s:]\n",
    "    v2 = values[:(-s)]\n",
    "    x.append(length)\n",
    "    y.append(scipy.stats.pearsonr(v1, v2)[0])\n",
    "    length = length * 10\n",
    "plt.plot(x, y, 'o')\n",
    "plt.show()"
   ]
  },
  {
   "cell_type": "code",
   "execution_count": null,
   "metadata": {},
   "outputs": [],
   "source": []
  }
 ],
 "metadata": {
  "kernelspec": {
   "display_name": "Python 3",
   "language": "python",
   "name": "python3"
  },
  "language_info": {
   "codemirror_mode": {
    "name": "ipython",
    "version": 3
   },
   "file_extension": ".py",
   "mimetype": "text/x-python",
   "name": "python",
   "nbconvert_exporter": "python",
   "pygments_lexer": "ipython3",
   "version": "3.8.3"
  }
 },
 "nbformat": 4,
 "nbformat_minor": 4
}
